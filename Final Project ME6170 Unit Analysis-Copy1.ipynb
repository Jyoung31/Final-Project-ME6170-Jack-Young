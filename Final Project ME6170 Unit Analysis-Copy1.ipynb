{
 "cells": [
  {
   "cell_type": "code",
   "execution_count": 1,
   "metadata": {},
   "outputs": [],
   "source": [
    "from IPython.core.display import display, HTML\n",
    "display(HTML(\"<style>.container { width:95% !important; }</style>\"))\n",
    "import numpy as np\n",
    "import matplotlib.pyplot as plt\n",
    "from sympy import *\n",
    "import math"
   ]
  },
  {
   "cell_type": "code",
   "execution_count": 2,
   "metadata": {},
   "outputs": [],
   "source": [
    "a,b,d=symbols('A,B,D')\n",
    "astar,bstar,cstar,dstar=symbols(r'A^{*},B^{*},C^{*},D^{*}')\n",
    "kappa=symbols('kappa')\n",
    "N,m=symbols('Newton,meter')\n"
   ]
  },
  {
   "cell_type": "code",
   "execution_count": 4,
   "metadata": {},
   "outputs": [],
   "source": [
    "N2=N/m**2\n",
    "M=N/m\n",
    "Q=N/m**2\n",
    "z=m\n",
    "A=Q*z\n",
    "B=Q*z**2\n",
    "D=Q*z**3\n",
    "Astar=A**-1\n",
    "Bstar=Astar*B\n",
    "Cstar=B*Astar\n",
    "Dstar=Matrix([D,-B*Astar*B])\n",
    "Kappa=Matrix([[(-Dstar[0]**-1)*Cstar*N2],[(Dstar[0]**-1)*M]]).transpose()\n",
    "KappaCorrect=1/m\n",
    "Epsilon=Matrix([Astar*N2,Bstar*KappaCorrect]).transpose()"
   ]
  },
  {
   "cell_type": "markdown",
   "metadata": {
    "variables": {
     "A": "$\\displaystyle \\frac{Newton}{meter}$",
     "Astar": "$\\displaystyle \\frac{meter}{Newton}$",
     "B": "$\\displaystyle Newton$",
     "Bstar": "$\\displaystyle meter$",
     "Cstar": "$\\displaystyle meter$",
     "D": "$\\displaystyle Newton meter$",
     "Dstar[0]": "$\\displaystyle Newton meter$",
     "Dstar[1]": "$\\displaystyle - Newton meter$",
     "M": "$\\displaystyle \\frac{Newton}{meter}$",
     "N2": "$\\displaystyle \\frac{Newton}{meter^{2}}$"
    }
   },
   "source": [
    "$A$={{A}}<br><br>\n",
    "$B$={{B}}<br><br>\n",
    "$D$={{D}}<br><br>\n",
    "$A^{*}$={{Astar}}<br><br>\n",
    "$B^{*}$={{Bstar}}<br><br>\n",
    "$C^{*}$={{Cstar}}<br><br>\n",
    "$D^{*}$={{Dstar[0]}} {{Dstar[1]}}={{A}}<br><br>\n",
    "\n",
    "Determining the units of $\\kappa$ from {$\\kappa$}=$-[D^{*}]^{-1}[C^{*}]${$N$}+$[D^{*}]^{-1}${$M$}={{Astar}}{{Cstar}}{{N2}}+{{Astar}}{{M}}<br><br>\n"
   ]
  },
  {
   "cell_type": "markdown",
   "metadata": {
    "variables": {
     "Kappa[1]": "$\\displaystyle \\frac{1}{meter^{2}}$"
    }
   },
   "source": [
    "we get {$\\kappa$}=unitless+{{Kappa[1]}}, this needs to be $\\frac{1}{meter}$ this implies both the first and second terms need to be multiplied by a factor of the length"
   ]
  },
  {
   "cell_type": "markdown",
   "metadata": {
    "variables": {
     "Astar": "$\\displaystyle \\frac{meter}{Newton}$",
     "Bstar": "$\\displaystyle meter$",
     "Epsilon[0]": "$\\displaystyle \\frac{1}{meter}$",
     "Epsilon[1]": "$\\displaystyle 1$",
     "N2": "$\\displaystyle \\frac{Newton}{meter^{2}}$"
    }
   },
   "source": [
    "Determining the units from {$\\epsilon^{o}$}=$[A^{*}]${$N$}$+[B^{*}]${$\\kappa$}={{Astar}}{{N2}}+{{Bstar}}$\\frac{1}{meter}$={{Epsilon[0]}}+{{Epsilon[1]}} where a 1 represents unitless<br><br>\n",
    "we get {$\\epsilon^{o}$}={{Epsilon[0]}}+{{Epsilon[1]}} this implies the second term needs to be multiplied by a factor of length"
   ]
  },
  {
   "cell_type": "code",
   "execution_count": null,
   "metadata": {},
   "outputs": [],
   "source": []
  },
  {
   "cell_type": "code",
   "execution_count": null,
   "metadata": {},
   "outputs": [],
   "source": []
  },
  {
   "cell_type": "code",
   "execution_count": null,
   "metadata": {},
   "outputs": [],
   "source": []
  },
  {
   "cell_type": "code",
   "execution_count": null,
   "metadata": {},
   "outputs": [],
   "source": []
  },
  {
   "cell_type": "code",
   "execution_count": null,
   "metadata": {},
   "outputs": [],
   "source": []
  },
  {
   "cell_type": "code",
   "execution_count": null,
   "metadata": {},
   "outputs": [],
   "source": []
  }
 ],
 "metadata": {
  "kernelspec": {
   "display_name": "Python 3",
   "language": "python",
   "name": "python3"
  },
  "language_info": {
   "codemirror_mode": {
    "name": "ipython",
    "version": 3
   },
   "file_extension": ".py",
   "mimetype": "text/x-python",
   "name": "python",
   "nbconvert_exporter": "python",
   "pygments_lexer": "ipython3",
   "version": "3.8.3"
  }
 },
 "nbformat": 4,
 "nbformat_minor": 4
}
