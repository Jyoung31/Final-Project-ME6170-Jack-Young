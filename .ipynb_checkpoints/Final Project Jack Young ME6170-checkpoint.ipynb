{
 "cells": [
  {
   "cell_type": "code",
   "execution_count": 1,
   "metadata": {},
   "outputs": [
    {
     "data": {
      "text/html": [
       "<style>.container { width:95% !important; }</style>"
      ],
      "text/plain": [
       "<IPython.core.display.HTML object>"
      ]
     },
     "metadata": {},
     "output_type": "display_data"
    }
   ],
   "source": [
    "from IPython.core.display import display, HTML\n",
    "display(HTML(\"<style>.container { width:95% !important; }</style>\"))\n",
    "import numpy as np\n",
    "import matplotlib.pyplot as plt\n",
    "from sympy import *\n",
    "import math\n",
    "\n",
    "n,m=symbols('n,m')\n",
    "theta=symbols(r'\\theta')\n",
    "e1,e2,g12,nu12,nu21=symbols(r'E_1,E_2,G_{12},\\nu_{12},\\nu_{21}')"
   ]
  },
  {
   "cell_type": "code",
   "execution_count": 15,
   "metadata": {},
   "outputs": [],
   "source": [
    "Ef=400*1e9\n",
    "Em=2.5*1e9\n",
    "vf=.7\n",
    "vfiber=.7\n",
    "vmatrix=.3\n",
    "E1=Ef*vfiber+Em*vmatrix\n",
    "E2=((vfiber/Ef)+(vmatrix/Em))**(-1)\n",
    "Nu12=.24\n",
    "Nu21=Nu12*(E2/E1)\n",
    "G12=5.65*1e9\n",
    "#N=Matrix([[20.0],[20.0],[0.0]])*1e6\n",
    "#M=Matrix([[5.0],[5.0],[2.0]])*1e6\n",
    "N=Matrix([[20.0],[20.0],[5.0]])*1e6\n",
    "M=Matrix([[0.0],[0.0],[0.0]])*1e6\n",
    "rf=(12/2)*1e-6#meters\n",
    "rm=(rf**2/vfiber)**.5#meters\n",
    "t=2.0*rm\n",
    "Tt=8*t\n",
    "lengthfactor=1e-6\n",
    "zk=[[-4.0*t],[-3.0*t],[-2.0*t],[-t*1.0],[0.0],[t*1.0],[2.0*t],[3.0*t],[4.0*t]]#Matrix of layer edge z locations\n",
    "#Theta=Matrix([[45.0],[-45.0],[45.0],[-45.0],[45.0],[-45.0],[45.0],[-45.0]])#Matrix of theta locations\n",
    "Qbarmat=Matrix([[e1/(1 - nu12*nu21), e2*nu12/(1 - nu12*nu21), 0], [e2*nu12/(1 - nu12*nu21), e2/(1 - nu12*nu21), 0], [0, 0, g12]])\n",
    "#Theta=Matrix([[0.0],[90.0],[0.0],[90.0],[0.0],[90.0],[0.0],[90.0]])\n",
    "Theta=Matrix([[0.0],[0.0],[0.0],[0.0],[0.0],[0.0],[0.0],[0.0]])\n",
    "#Theta=Matrix([[90.0],[45.0],[0.10],[-45.0],[-90.0],[-45.0],[45.0],[0.10]])\n",
    "#Theta=Matrix([[90.0],[-90.0],[-90.0],[90.0],[-90.0],[90.0],[-90.0],[90.0]])\n",
    "#thetaLinspace=np.linspace(-90,90,100)"
   ]
  },
  {
   "cell_type": "markdown",
   "metadata": {
    "variables": {
     "Qbarmat": "$\\displaystyle \\left[\\begin{matrix}\\frac{E_{1}}{- \\nu_{12} \\nu_{21} + 1} & \\frac{E_{2} \\nu_{12}}{- \\nu_{12} \\nu_{21} + 1} & 0\\\\\\frac{E_{2} \\nu_{12}}{- \\nu_{12} \\nu_{21} + 1} & \\frac{E_{2}}{- \\nu_{12} \\nu_{21} + 1} & 0\\\\0 & 0 & G_{12}\\end{matrix}\\right]$"
    }
   },
   "source": [
    "$[\\bar{Q}_k]=${{Qbarmat}}"
   ]
  },
  {
   "cell_type": "code",
   "execution_count": 16,
   "metadata": {},
   "outputs": [],
   "source": [
    "def Qbar_k(theta):#function to determine Qbar_k for each k using theta\n",
    "    M2=math.cos(math.radians(theta))\n",
    "    N2=math.sin(math.radians(theta))\n",
    "    T1=Matrix([[M2**2, N2**2, 2*M2*N2], [N2**2, M2**2, -2*M2*N2], [-M2*N2, M2*N2, M2**2 - N2**2]])\n",
    "    T2=Matrix([[M2**2, N2**2, M2*N2], [N2**2, M2**2, -M2*N2], [-2*M2*N2, 2*M2*N2, M2**2 - N2**2]])\n",
    "    Q=Matrix([[E1/(1 - Nu12*Nu21), E2*Nu12/(1 - Nu12*Nu21), 0], [E2*Nu12/(1 - Nu12*Nu21), E2/(1 - Nu12*Nu21), 0], [0, 0, G12]])\n",
    "    Qbar=T1.inv()*Q*T2\n",
    "    return Qbar"
   ]
  },
  {
   "cell_type": "code",
   "execution_count": 17,
   "metadata": {},
   "outputs": [],
   "source": [
    "Qbark1=Qbar_k(Theta[0])#use function Qbar_k(Theta[i]) to find Qbar_k1\n",
    "Qbark2=Qbar_k(Theta[1])\n",
    "Qbark3=Qbar_k(Theta[2])\n",
    "Qbark4=Qbar_k(Theta[3])\n",
    "Qbark5=Qbar_k(Theta[4])\n",
    "Qbark6=Qbar_k(Theta[5])\n",
    "Qbark7=Qbar_k(Theta[6])\n",
    "Qbark8=Qbar_k(Theta[7])\n",
    "Qresults={\"Qbark\":[Qbark1,Qbark2,Qbark3,Qbark4,Qbark5,Qbark6,Qbark7,Qbark8]}"
   ]
  },
  {
   "cell_type": "markdown",
   "metadata": {
    "variables": {
     "Qbark1": "$\\displaystyle \\left[\\begin{matrix}281223899198.395 & 1974579993.3111 & 0\\\\1974579993.3111 & 8227416638.79626 & 0\\\\0 & 0 & 5650000000.0\\end{matrix}\\right]$",
     "Qbark2": "$\\displaystyle \\left[\\begin{matrix}281223899198.395 & 1974579993.3111 & 0\\\\1974579993.3111 & 8227416638.79626 & 0\\\\0 & 0 & 5650000000.0\\end{matrix}\\right]$",
     "Qbark3": "$\\displaystyle \\left[\\begin{matrix}281223899198.395 & 1974579993.3111 & 0\\\\1974579993.3111 & 8227416638.79626 & 0\\\\0 & 0 & 5650000000.0\\end{matrix}\\right]$",
     "Qbark4": "$\\displaystyle \\left[\\begin{matrix}281223899198.395 & 1974579993.3111 & 0\\\\1974579993.3111 & 8227416638.79626 & 0\\\\0 & 0 & 5650000000.0\\end{matrix}\\right]$",
     "Qbark5": "$\\displaystyle \\left[\\begin{matrix}281223899198.395 & 1974579993.3111 & 0\\\\1974579993.3111 & 8227416638.79626 & 0\\\\0 & 0 & 5650000000.0\\end{matrix}\\right]$",
     "Qbark6": "$\\displaystyle \\left[\\begin{matrix}281223899198.395 & 1974579993.3111 & 0\\\\1974579993.3111 & 8227416638.79626 & 0\\\\0 & 0 & 5650000000.0\\end{matrix}\\right]$",
     "Qbark7": "$\\displaystyle \\left[\\begin{matrix}281223899198.395 & 1974579993.3111 & 0\\\\1974579993.3111 & 8227416638.79626 & 0\\\\0 & 0 & 5650000000.0\\end{matrix}\\right]$",
     "Qbark8": "$\\displaystyle \\left[\\begin{matrix}281223899198.395 & 1974579993.3111 & 0\\\\1974579993.3111 & 8227416638.79626 & 0\\\\0 & 0 & 5650000000.0\\end{matrix}\\right]$"
    }
   },
   "source": [
    "This gives,<br><br>\n",
    "$[\\bar{Q}]^{k=1}=${{Qbark1}}<br><br>\n",
    "$[\\bar{Q}]^{k=2}=${{Qbark2}}<br><br>\n",
    "$[\\bar{Q}]^{k=3}=${{Qbark3}}<br><br>\n",
    "$[\\bar{Q}]^{k=4}=${{Qbark4}}<br><br>\n",
    "$[\\bar{Q}]^{k=5}=${{Qbark5}}<br><br>\n",
    "$[\\bar{Q}]^{k=6}=${{Qbark6}}<br><br>\n",
    "$[\\bar{Q}]^{k=7}=${{Qbark7}}<br><br>\n",
    "$[\\bar{Q}]^{k=8}=${{Qbark8}}<br><br>"
   ]
  },
  {
   "cell_type": "markdown",
   "metadata": {},
   "source": [
    "$[A] = \\sum_{k=1}^{N} [\\bar{Q_k}]^{k}(z_k-z_{k-1})$ <br><br>\n",
    "$[B] = \\frac{1}{2}\\sum_{k=1}^{N} [\\bar{Q_k}]^{k}(z_k^2-z_{k-1}^2)$ <br><br>\n",
    "$[D] = \\frac{1}{3}\\sum_{k=1}^{N} [\\bar{Q_k}]^{k}(z_k^3-z_{k-1}^3)$ <br><br>"
   ]
  },
  {
   "cell_type": "code",
   "execution_count": 18,
   "metadata": {},
   "outputs": [],
   "source": [
    "def ABDmatrix(rf,Theta,zk):\n",
    "    #rf is input in microns, theta in degrees, and zk in an array containing multiples of t eg Matrix([[-t],[0],[t]])\n",
    "    \n",
    "    A=0.0\n",
    "    B=0.0\n",
    "    D=0.0\n",
    "    \n",
    "    zk=np.array(zk)#make zk array data type\n",
    "    \n",
    "    ##Find A\n",
    "    for i in range(0,len(Theta)):\n",
    "        Aadd=Qbar_k(Theta[i])*(zk[i+1]-zk[i])#python is zero indexed zk[0] is the first element\n",
    "        A+=Aadd\n",
    "    A=A/Tt\n",
    "    ##Find B\n",
    "    for i in range(0,len(Theta)):\n",
    "        Badd=Qbar_k(Theta[i])*(zk[i+1]**2-zk[i]**2)\n",
    "        B+=Badd\n",
    "    B=B/2.0\n",
    "    B=B/Tt**2\n",
    "    \n",
    "    ##Find D\n",
    "    for i in range(0,len(Theta)):\n",
    "        Dadd=Qbar_k(Theta[i])*(zk[i+1]**3-zk[i]**3)\n",
    "        D+=Dadd\n",
    "    D=D/3.0\n",
    "    D=D/Tt**3\n",
    "    #Combine A, B, and D into a python dictionary data format variable\n",
    "    ABD={\"matrix\":[A,B,D]}\n",
    "    \n",
    "    return ABD\n",
    "    "
   ]
  },
  {
   "cell_type": "code",
   "execution_count": 19,
   "metadata": {},
   "outputs": [],
   "source": [
    "ABD=ABDmatrix(rf,Theta,zk)#define ABD as the output of the function ABDmatrix\n",
    "\n",
    "A=np.array(ABD[\"matrix\"][0])#address dictionary with np.array(ABD[\"matrix\"][i]) for data from ABD\n",
    "B=np.array(ABD[\"matrix\"][1])\n",
    "D=np.array(ABD[\"matrix\"][2])"
   ]
  },
  {
   "cell_type": "markdown",
   "metadata": {
    "variables": {
     "Matrix(A)": "$\\displaystyle \\left[\\begin{matrix}281223899198.395 & 1974579993.3111 & 0\\\\1974579993.3111 & 8227416638.79626 & 0\\\\0 & 0 & 5650000000.0\\end{matrix}\\right]$",
     "Matrix(B)": "$\\displaystyle \\left[\\begin{matrix}0 & -1.68653671275523 \\cdot 10^{-8} & 0\\\\-1.68653671275523 \\cdot 10^{-8} & 0 & 0\\\\0 & 0 & 6.74614685102092 \\cdot 10^{-8}\\end{matrix}\\right]$",
     "Matrix(D)": "$\\displaystyle \\left[\\begin{matrix}23435324933.1996 & 164548332.775925 & 0\\\\164548332.775925 & 685618053.233022 & 0\\\\0 & 0 & 470833333.333333\\end{matrix}\\right]$"
    }
   },
   "source": [
    "This gives,<br><br>\n",
    "$[A]=${{Matrix(A)}}<br><br>\n",
    "$[B]=${{Matrix(B)}}<br><br>\n",
    "$[D]=${{Matrix(D)}}<br><br>"
   ]
  },
  {
   "cell_type": "markdown",
   "metadata": {},
   "source": [
    "$[A^{*}]=[A]^{-1}$<br><br>\n",
    "$[B^{*}]=-[A]^{-1}[B]$<br><br> \n",
    "$[C^{*}]=[B][A]^{-1}$<br><br> \n",
    "$[D^{*}]=[D]-[B][A]^{-1}[B]$<br><br> "
   ]
  },
  {
   "cell_type": "code",
   "execution_count": 20,
   "metadata": {},
   "outputs": [],
   "source": [
    "def ABDstar(A,B,D):\n",
    "    Astar=Matrix(A).inv()\n",
    "    Bstar=np.matmul(-Astar,B)\n",
    "    Cstar=np.matmul(B,Astar)\n",
    "    Dstar=D-np.matmul(np.matmul(B,Astar),B)\n",
    "    star_results={\"star_matrices\":[Astar,Bstar,Cstar,Dstar]}\n",
    "    return star_results"
   ]
  },
  {
   "cell_type": "code",
   "execution_count": 21,
   "metadata": {},
   "outputs": [],
   "source": [
    "Astar=ABDstar(A,B,D)[\"star_matrices\"][0]\n",
    "Bstar=ABDstar(A,B,D)[\"star_matrices\"][1]\n",
    "Cstar=ABDstar(A,B,D)[\"star_matrices\"][2]\n",
    "Dstar=ABDstar(A,B,D)[\"star_matrices\"][3]"
   ]
  },
  {
   "cell_type": "markdown",
   "metadata": {
    "variables": {
     "Matrix(Astar)": "$\\displaystyle \\left[\\begin{matrix}3.56188780053428 \\cdot 10^{-12} & -8.54853072128228 \\cdot 10^{-13} & 0\\\\-8.54853072128228 \\cdot 10^{-13} & 1.2175 \\cdot 10^{-10} & 0\\\\0 & 0 & 1.76991150442478 \\cdot 10^{-10}\\end{matrix}\\right]$",
     "Matrix(Bstar)": "$\\displaystyle \\left[\\begin{matrix}-1.44174109015585 \\cdot 10^{-20} & 6.00725454231604 \\cdot 10^{-20} & 0\\\\2.05335844777949 \\cdot 10^{-18} & -1.44174109015585 \\cdot 10^{-20} & 0\\\\0 & 0 & -1.19400829221609 \\cdot 10^{-17}\\end{matrix}\\right]$",
     "Matrix(Cstar)": "$\\displaystyle \\left[\\begin{matrix}1.44174109015585 \\cdot 10^{-20} & -2.05335844777949 \\cdot 10^{-18} & 0\\\\-6.00725454231604 \\cdot 10^{-20} & 1.44174109015585 \\cdot 10^{-20} & 0\\\\0 & 0 & 1.19400829221609 \\cdot 10^{-17}\\end{matrix}\\right]$",
     "Matrix(Dstar)": "$\\displaystyle \\left[\\begin{matrix}23435324933.1996 & 164548332.775925 & 0\\\\164548332.775925 & 685618053.233022 & 0\\\\0 & 0 & 470833333.333333\\end{matrix}\\right]$"
    }
   },
   "source": [
    "This gives,<br><br>\n",
    "$[A^{*}]=${{Matrix(Astar)}}<br><br>\n",
    "$[B^{*}]=${{Matrix(Bstar)}}<br><br>\n",
    "$[C^{*}]=${{Matrix(Cstar)}}<br><br>\n",
    "$[D^{*}]=${{Matrix(Dstar)}}<br><br>"
   ]
  },
  {
   "cell_type": "markdown",
   "metadata": {},
   "source": [
    "{$\\kappa$}=$-[D^{*}]^{-1}[C^{*}]${$N$}+$[D^{*}]^{-1}${$M$}"
   ]
  },
  {
   "cell_type": "code",
   "execution_count": 22,
   "metadata": {},
   "outputs": [],
   "source": [
    "def kappa(Dstar,Cstar,N,M):\n",
    "    kappa=np.matmul(np.matmul(-(np.array(Matrix(Dstar).inv())),Cstar),N/Tt)+np.matmul(Matrix(Dstar).inv(),M)/Tt**2\n",
    "    return kappa\n",
    "\n",
    "Kappa=kappa(Dstar,Cstar,N,M)"
   ]
  },
  {
   "cell_type": "markdown",
   "metadata": {
    "variables": {
     "Matrix(Kappa)": "$\\displaystyle \\left[\\begin{matrix}1.51089312890583 \\cdot 10^{-17}\\\\7.98072768034399 \\cdot 10^{-18}\\\\-1.10506527593741 \\cdot 10^{-15}\\end{matrix}\\right]$"
    }
   },
   "source": [
    "{$\\kappa$}={{Matrix(Kappa)}}<br><br>\n",
    "{$\\epsilon^{o}$}=$[A^{*}]${$N$}$+[B^{*}]${$\\kappa$}"
   ]
  },
  {
   "cell_type": "code",
   "execution_count": 23,
   "metadata": {},
   "outputs": [],
   "source": [
    "def epsilon_not(Astar,N,Bstar,Kappa):\n",
    "    epsilon_not=np.matmul(Astar,N)+np.matmul(Bstar,Kappa)*Tt\n",
    "    return epsilon_not\n",
    "\n",
    "Epsilon_not=epsilon_not(Astar,N,Bstar,Kappa)"
   ]
  },
  {
   "cell_type": "markdown",
   "metadata": {
    "variables": {
     "Matrix(Epsilon_not)": "$\\displaystyle \\left[\\begin{matrix}5.41406945681211 \\cdot 10^{-5}\\\\0.00241790293855743\\\\0.000884955752212389\\end{matrix}\\right]$"
    }
   },
   "source": [
    "{$\\epsilon^{o}$}={{Matrix(Epsilon_not)}}<br><br>\n",
    "{$\\sigma$}$^{k}$=$[\\bar{Q}]^{k}${$\\epsilon^{o}$}+$[\\bar{Q}]^{k}z${$\\kappa$}"
   ]
  },
  {
   "cell_type": "code",
   "execution_count": 24,
   "metadata": {},
   "outputs": [],
   "source": [
    "def sigma_k(Epsilon_not,Kappa,zk,Qresults):\n",
    "    zk=np.array(zk)\n",
    "\n",
    "    sigmak={\"sigmak\":[]}\n",
    "    for i in range(0,len(Qresults[\"Qbark\"])):\n",
    "        sigmakadd=np.array(np.matmul(Qresults[\"Qbark\"][i],Epsilon_not))+np.array(np.matmul(Qresults[\"Qbark\"][i]*(zk[i]+(t/2)),Kappa))\n",
    "        sigmak[\"sigmak\"].append(sigmakadd)\n",
    "    return sigmak\n"
   ]
  },
  {
   "cell_type": "markdown",
   "metadata": {
    "variables": {
     "Matrix(sigma_k(Epsilon_not,Kappa,zk,Qresults)[\"sigmak\"][0]/1e9)": "$\\displaystyle \\left[\\begin{matrix}0.02\\\\0.02\\\\0.005\\end{matrix}\\right]$",
     "Matrix(sigma_k(Epsilon_not,Kappa,zk,Qresults)[\"sigmak\"][1]/1e9)": "$\\displaystyle \\left[\\begin{matrix}0.02\\\\0.02\\\\0.005\\end{matrix}\\right]$",
     "Matrix(sigma_k(Epsilon_not,Kappa,zk,Qresults)[\"sigmak\"][2]/1e9)": "$\\displaystyle \\left[\\begin{matrix}0.02\\\\0.02\\\\0.005\\end{matrix}\\right]$",
     "Matrix(sigma_k(Epsilon_not,Kappa,zk,Qresults)[\"sigmak\"][3]/1e9)": "$\\displaystyle \\left[\\begin{matrix}0.02\\\\0.02\\\\0.005\\end{matrix}\\right]$",
     "Matrix(sigma_k(Epsilon_not,Kappa,zk,Qresults)[\"sigmak\"][4]/1e9)": "$\\displaystyle \\left[\\begin{matrix}0.02\\\\0.02\\\\0.005\\end{matrix}\\right]$",
     "Matrix(sigma_k(Epsilon_not,Kappa,zk,Qresults)[\"sigmak\"][5]/1e9)": "$\\displaystyle \\left[\\begin{matrix}0.02\\\\0.02\\\\0.005\\end{matrix}\\right]$",
     "Matrix(sigma_k(Epsilon_not,Kappa,zk,Qresults)[\"sigmak\"][6]/1e9)": "$\\displaystyle \\left[\\begin{matrix}0.02\\\\0.02\\\\0.005\\end{matrix}\\right]$",
     "Matrix(sigma_k(Epsilon_not,Kappa,zk,Qresults)[\"sigmak\"][7]/1e9)": "$\\displaystyle \\left[\\begin{matrix}0.02\\\\0.02\\\\0.005\\end{matrix}\\right]$"
    }
   },
   "source": [
    "This gives,<br><br>\n",
    "$[\\sigma_{k}]^{k=1}=${{Matrix(sigma_k(Epsilon_not,Kappa,zk,Qresults)[\"sigmak\"][0]/1e9)}}Gpa<br><br>\n",
    "$[\\sigma_{k}]^{k=2}=${{Matrix(sigma_k(Epsilon_not,Kappa,zk,Qresults)[\"sigmak\"][1]/1e9)}}Gpa<br><br>\n",
    "$[\\sigma_{k}]^{k=3}=${{Matrix(sigma_k(Epsilon_not,Kappa,zk,Qresults)[\"sigmak\"][2]/1e9)}}Gpa<br><br>\n",
    "$[\\sigma_{k}]^{k=4}=${{Matrix(sigma_k(Epsilon_not,Kappa,zk,Qresults)[\"sigmak\"][3]/1e9)}}Gpa<br><br>\n",
    "$[\\sigma_{k}]^{k=5}=${{Matrix(sigma_k(Epsilon_not,Kappa,zk,Qresults)[\"sigmak\"][4]/1e9)}}Gpa<br><br>\n",
    "$[\\sigma_{k}]^{k=6}=${{Matrix(sigma_k(Epsilon_not,Kappa,zk,Qresults)[\"sigmak\"][5]/1e9)}}Gpa<br><br>\n",
    "$[\\sigma_{k}]^{k=7}=${{Matrix(sigma_k(Epsilon_not,Kappa,zk,Qresults)[\"sigmak\"][6]/1e9)}}Gpa<br><br>\n",
    "$[\\sigma_{k}]^{k=8}=${{Matrix(sigma_k(Epsilon_not,Kappa,zk,Qresults)[\"sigmak\"][7]/1e9)}}Gpa<br><br>"
   ]
  },
  {
   "cell_type": "code",
   "execution_count": null,
   "metadata": {},
   "outputs": [],
   "source": []
  },
  {
   "cell_type": "code",
   "execution_count": null,
   "metadata": {},
   "outputs": [],
   "source": []
  },
  {
   "cell_type": "code",
   "execution_count": null,
   "metadata": {},
   "outputs": [],
   "source": []
  },
  {
   "cell_type": "code",
   "execution_count": null,
   "metadata": {},
   "outputs": [],
   "source": []
  },
  {
   "cell_type": "code",
   "execution_count": null,
   "metadata": {},
   "outputs": [],
   "source": []
  },
  {
   "cell_type": "code",
   "execution_count": null,
   "metadata": {},
   "outputs": [],
   "source": []
  },
  {
   "cell_type": "code",
   "execution_count": null,
   "metadata": {},
   "outputs": [],
   "source": []
  },
  {
   "cell_type": "code",
   "execution_count": null,
   "metadata": {},
   "outputs": [],
   "source": []
  },
  {
   "cell_type": "code",
   "execution_count": null,
   "metadata": {},
   "outputs": [],
   "source": []
  },
  {
   "cell_type": "code",
   "execution_count": null,
   "metadata": {},
   "outputs": [],
   "source": []
  },
  {
   "cell_type": "code",
   "execution_count": null,
   "metadata": {},
   "outputs": [],
   "source": []
  },
  {
   "cell_type": "code",
   "execution_count": null,
   "metadata": {},
   "outputs": [],
   "source": []
  },
  {
   "cell_type": "code",
   "execution_count": null,
   "metadata": {},
   "outputs": [],
   "source": []
  },
  {
   "cell_type": "code",
   "execution_count": null,
   "metadata": {},
   "outputs": [],
   "source": []
  },
  {
   "cell_type": "code",
   "execution_count": null,
   "metadata": {},
   "outputs": [],
   "source": []
  },
  {
   "cell_type": "code",
   "execution_count": null,
   "metadata": {},
   "outputs": [],
   "source": []
  },
  {
   "cell_type": "code",
   "execution_count": null,
   "metadata": {},
   "outputs": [],
   "source": []
  },
  {
   "cell_type": "code",
   "execution_count": null,
   "metadata": {},
   "outputs": [],
   "source": []
  }
 ],
 "metadata": {
  "kernelspec": {
   "display_name": "Python 3",
   "language": "python",
   "name": "python3"
  },
  "language_info": {
   "codemirror_mode": {
    "name": "ipython",
    "version": 3
   },
   "file_extension": ".py",
   "mimetype": "text/x-python",
   "name": "python",
   "nbconvert_exporter": "python",
   "pygments_lexer": "ipython3",
   "version": "3.8.3"
  }
 },
 "nbformat": 4,
 "nbformat_minor": 4
}
